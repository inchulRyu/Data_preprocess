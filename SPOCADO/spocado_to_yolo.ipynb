{
 "metadata": {
  "language_info": {
   "codemirror_mode": {
    "name": "ipython",
    "version": 3
   },
   "file_extension": ".py",
   "mimetype": "text/x-python",
   "name": "python",
   "nbconvert_exporter": "python",
   "pygments_lexer": "ipython3",
   "version": "3.6.9-final"
  },
  "orig_nbformat": 2,
  "kernelspec": {
   "name": "python3",
   "display_name": "Python 3.6.9 64-bit",
   "metadata": {
    "interpreter": {
     "hash": "31f2aee4e71d21fbe5cf8b01ff0e069b9275f58929596ceb00d14d90e3e16cd6"
    }
   }
  }
 },
 "nbformat": 4,
 "nbformat_minor": 2,
 "cells": [
  {
   "cell_type": "code",
   "execution_count": 1,
   "metadata": {},
   "outputs": [],
   "source": [
    "import os\n",
    "import json"
   ]
  },
  {
   "cell_type": "code",
   "execution_count": 2,
   "metadata": {},
   "outputs": [],
   "source": [
    "def coordinateCvt2YOLO(size, box):\n",
    "    dw = 1. / size[0]\n",
    "    dh = 1. / size[1]\n",
    "\n",
    "    # (xmin + xmax / 2)\n",
    "    x = (box[0] + box[1]) / 2.0\n",
    "    # (ymin + ymax / 2)\n",
    "    y = (box[2] + box[3]) / 2.0\n",
    "\n",
    "    # (xmax - xmin) = w\n",
    "    w = box[1] - box[0]\n",
    "    # (ymax - ymin) = h\n",
    "    h = box[3] - box[2]\n",
    "\n",
    "    x = x * dw\n",
    "    w = w * dw\n",
    "    y = y * dh\n",
    "    h = h * dh\n",
    "    return (round(x, 3), round(y, 3), round(w, 3), round(h, 3))"
   ]
  },
  {
   "cell_type": "code",
   "execution_count": 3,
   "metadata": {},
   "outputs": [],
   "source": [
    "def bboxNormalize(size, box):\n",
    "    dw = 1. / size[0]\n",
    "    dh = 1. / size[1]\n",
    "\n",
    "    x = box[0] + box[2] / 2.0\n",
    "    y = box[1] + box[3] / 2.0\n",
    "\n",
    "    w = box[2]\n",
    "    h = box[3]\n",
    "\n",
    "    x = x * dw\n",
    "    w = w * dw\n",
    "    y = y * dh\n",
    "    h = h * dh\n",
    "    return (round(x, 3), round(y, 3), round(w, 3), round(h, 3))"
   ]
  },
  {
   "cell_type": "code",
   "execution_count": 4,
   "metadata": {},
   "outputs": [],
   "source": [
    "img_type = '.jpg'"
   ]
  },
  {
   "cell_type": "code",
   "execution_count": null,
   "metadata": {},
   "outputs": [],
   "source": []
  },
  {
   "cell_type": "code",
   "execution_count": null,
   "metadata": {},
   "outputs": [],
   "source": []
  },
  {
   "cell_type": "code",
   "execution_count": 42,
   "metadata": {},
   "outputs": [],
   "source": []
  },
  {
   "cell_type": "code",
   "execution_count": 5,
   "metadata": {},
   "outputs": [],
   "source": [
    "# file_path = '/DL_data/Spocado/baseball_annotations'\n",
    "file_path = '/DL_data/Spocado/data/labels/demo1/spocado_result'\n",
    "yolo_label_save_path = '/DL_data/Spocado/data/labels/demo1/spocado_result_yolo_ver'\n",
    "img_path = '/DL_data/Spocado/data/images/demo1/'"
   ]
  },
  {
   "cell_type": "code",
   "execution_count": 6,
   "metadata": {},
   "outputs": [],
   "source": [
    "files = os.listdir(file_path)"
   ]
  },
  {
   "cell_type": "code",
   "execution_count": 7,
   "metadata": {},
   "outputs": [],
   "source": [
    "# for (root, dirs, files) in os.walk(file_path):\n",
    "#     filename = os.path.splitext(file)[0]\n",
    "#     file_ext = os.path.splitext(file)[1]\n",
    "#     if file_ext == 'json':\n",
    "# 아래의 폴더들까지 안볼거임"
   ]
  },
  {
   "cell_type": "code",
   "execution_count": 8,
   "metadata": {},
   "outputs": [
    {
     "output_type": "execute_result",
     "data": {
      "text/plain": [
       "910"
      ]
     },
     "metadata": {},
     "execution_count": 8
    }
   ],
   "source": [
    "len(files)"
   ]
  },
  {
   "cell_type": "code",
   "execution_count": 9,
   "metadata": {},
   "outputs": [
    {
     "output_type": "execute_result",
     "data": {
      "text/plain": [
       "'spocado_bounding_box_video_191.json'"
      ]
     },
     "metadata": {},
     "execution_count": 9
    }
   ],
   "source": [
    "files[0]"
   ]
  },
  {
   "cell_type": "code",
   "execution_count": null,
   "metadata": {},
   "outputs": [],
   "source": []
  },
  {
   "source": [],
   "cell_type": "markdown",
   "metadata": {}
  },
  {
   "cell_type": "code",
   "execution_count": 10,
   "metadata": {},
   "outputs": [],
   "source": [
    "### 파일 열여서 data에 정리"
   ]
  },
  {
   "cell_type": "code",
   "execution_count": 11,
   "metadata": {},
   "outputs": [],
   "source": [
    "cls_dic = {'0' : 0, \n",
    "           '1': 1, \n",
    "           '2' : 1, \n",
    "           '3' : 1, \n",
    "           '4' : 2, \n",
    "           '5' : 3,\n",
    "           '6' : 4,\n",
    "           '7' : 5,\n",
    "           '8' : 6,\n",
    "           '9' : 7,\n",
    "           '10' : 8,\n",
    "           '11' : 9,\n",
    "           '12' : 9,\n",
    "           '13' : 10,\n",
    "           '14' : 11,\n",
    "           '15' : 11,\n",
    "           '16' : 11,\n",
    "           '17' : 12,\n",
    "           '18' : 13,\n",
    "           '19' : 14,\n",
    "           '20' : 14,\n",
    "           '21' : 15,\n",
    "           '22' : 15,\n",
    "           '23' : 16,\n",
    "           '24' : 17,\n",
    "           '25' : 18,\n",
    "           '26' : 19,\n",
    "           '27' : 20,\n",
    "           '28' : 21,\n",
    "           '29' : 22,\n",
    "           '30' : 23,\n",
    "           '31' : 24\n",
    "           }"
   ]
  },
  {
   "cell_type": "code",
   "execution_count": 12,
   "metadata": {},
   "outputs": [],
   "source": [
    "data = {}\n",
    "\n",
    "for each_file in files:\n",
    "\n",
    "    filename = os.path.splitext(each_file)[0]\n",
    "    file_ext = os.path.splitext(each_file)[1]\n",
    "\n",
    "    # print(filename)\n",
    "\n",
    "\n",
    "    if file_ext == '.json':\n",
    "        with open(os.path.join(file_path, filename+file_ext), 'r') as jf:\n",
    "            contents = json.load(jf)\n",
    "\n",
    "        image_size = (contents['image']['width'], contents['image']['height'])\n",
    "\n",
    "        for each_obj in contents['annotations']:\n",
    "            if each_obj['category_id'] <= 31:\n",
    "                # each_obj['bbox'] = (x1, y1, width, height)\n",
    "                # bbox 좌표들 정규화 시킴.\n",
    "                normalized_bbox = bboxNormalize(image_size, each_obj['bbox'])\n",
    "                # yolo format으로 새로운 line 만듦.\n",
    "                class_id = cls_dic[str(each_obj[\"category_id\"])]\n",
    "                new_line = f'{class_id} {normalized_bbox[0]} {normalized_bbox[1]} {normalized_bbox[2]} {normalized_bbox[3]}'\n",
    "                try:\n",
    "                    data[filename].append(new_line)\n",
    "                except KeyError:\n",
    "                    data[filename] = []\n",
    "                    data[filename].append(new_line)\n",
    "\n",
    "        "
   ]
  },
  {
   "cell_type": "code",
   "execution_count": 13,
   "metadata": {},
   "outputs": [
    {
     "output_type": "execute_result",
     "data": {
      "text/plain": [
       "910"
      ]
     },
     "metadata": {},
     "execution_count": 13
    }
   ],
   "source": [
    "len(data.values())"
   ]
  },
  {
   "cell_type": "code",
   "execution_count": 14,
   "metadata": {},
   "outputs": [],
   "source": [
    "for key in data:\n",
    "    with open(os.path.join(yolo_label_save_path, ''.join([key, '.txt'])), 'w') as output_txt_file:\n",
    "        for each_anno in data[key]:\n",
    "            output_txt_file.write(each_anno + '\\n')"
   ]
  },
  {
   "cell_type": "code",
   "execution_count": null,
   "metadata": {},
   "outputs": [],
   "source": []
  },
  {
   "cell_type": "code",
   "execution_count": null,
   "metadata": {},
   "outputs": [],
   "source": []
  },
  {
   "cell_type": "code",
   "execution_count": null,
   "metadata": {},
   "outputs": [],
   "source": []
  },
  {
   "cell_type": "code",
   "execution_count": 73,
   "metadata": {},
   "outputs": [],
   "source": []
  },
  {
   "cell_type": "code",
   "execution_count": 74,
   "metadata": {},
   "outputs": [],
   "source": [
    "manifest_path = '/home/icryu/works/YOLOv4/darknet/train/spocado'"
   ]
  },
  {
   "cell_type": "code",
   "execution_count": 88,
   "metadata": {},
   "outputs": [],
   "source": [
    "if os.path.isdir(manifest_path):\n",
    "    manifest_abspath = os.path.join(manifest_path, \"manifest.txt\")\n",
    "else:\n",
    "    manifest_abspath = manifest_path"
   ]
  },
  {
   "source": [
    "with open(os.path.abspath(manifest_abspath), \"w\") as manifest_file:\n",
    "    for key in data:\n",
    "        manifest_file.write(os.path.join(img_path, ''.join([key[15:], img_type, '\\n'])))\n",
    "\n",
    "        with open(os.path.join(yolo_label_save_path, ''.join([key[15:], '.txt'])), 'w') as output_txt_file:\n",
    "            for each_anno in data[key]:\n",
    "                output_txt_file.write(each_anno + '\\n')"
   ],
   "cell_type": "code",
   "metadata": {},
   "execution_count": null,
   "outputs": []
  },
  {
   "cell_type": "code",
   "execution_count": null,
   "metadata": {},
   "outputs": [],
   "source": [
    "================================================================="
   ]
  },
  {
   "cell_type": "code",
   "execution_count": null,
   "metadata": {},
   "outputs": [],
   "source": []
  },
  {
   "cell_type": "code",
   "execution_count": null,
   "metadata": {},
   "outputs": [],
   "source": []
  },
  {
   "source": [],
   "cell_type": "markdown",
   "metadata": {}
  },
  {
   "cell_type": "code",
   "execution_count": 81,
   "metadata": {},
   "outputs": [
    {
     "output_type": "execute_result",
     "data": {
      "text/plain": [
       "'spocado_bounding_box_video_196.json'"
      ]
     },
     "metadata": {},
     "execution_count": 81
    }
   ],
   "source": [
    "### 연습"
   ]
  },
  {
   "cell_type": "code",
   "execution_count": 84,
   "metadata": {},
   "outputs": [
    {
     "output_type": "execute_result",
     "data": {
      "text/plain": [
       "['7 0.392 0.557 0.308 0.886',\n",
       " '31 0.45 0.194 0.146 0.158',\n",
       " '27 0.341 0.336 0.201 0.111',\n",
       " '28 0.392 0.665 0.307 0.67']"
      ]
     },
     "metadata": {},
     "execution_count": 84
    }
   ],
   "source": [
    "files[0][15:]"
   ]
  },
  {
   "cell_type": "code",
   "execution_count": null,
   "metadata": {},
   "outputs": [],
   "source": [
    "data['spocado_result_spocado_bounding_box_video_431']"
   ]
  },
  {
   "cell_type": "code",
   "execution_count": null,
   "metadata": {},
   "outputs": [],
   "source": []
  },
  {
   "cell_type": "code",
   "execution_count": null,
   "metadata": {},
   "outputs": [],
   "source": []
  },
  {
   "cell_type": "code",
   "execution_count": null,
   "metadata": {},
   "outputs": [],
   "source": []
  },
  {
   "cell_type": "code",
   "execution_count": null,
   "metadata": {},
   "outputs": [],
   "source": []
  },
  {
   "source": [],
   "cell_type": "markdown",
   "metadata": {}
  },
  {
   "cell_type": "code",
   "execution_count": 7,
   "metadata": {},
   "outputs": [],
   "source": [
    "================================================="
   ]
  },
  {
   "cell_type": "code",
   "execution_count": 12,
   "metadata": {},
   "outputs": [],
   "source": []
  },
  {
   "cell_type": "code",
   "execution_count": 24,
   "metadata": {},
   "outputs": [],
   "source": []
  },
  {
   "cell_type": "code",
   "execution_count": 54,
   "metadata": {},
   "outputs": [],
   "source": []
  },
  {
   "cell_type": "code",
   "execution_count": 55,
   "metadata": {},
   "outputs": [
    {
     "output_type": "execute_result",
     "data": {
      "text/plain": [
       "{'spocado_result_spocado_bounding_box_video_196.json': ['7 0.503 0.494 0.163 0.633',\n",
       "  '10 0.651 0.574 0.157 0.422',\n",
       "  '0 0.66 0.45 0.174 0.653',\n",
       "  '9 0.212 0.603 0.14 0.693',\n",
       "  '8 0.31 0.758 0.188 0.483',\n",
       "  '27 0.538 0.183 0.098 0.256',\n",
       "  '31 0.495 0.222 0.045 0.085',\n",
       "  '28 0.483 0.52 0.111 0.516',\n",
       "  '30 0.24 0.29 0.049 0.061',\n",
       "  '31 0.299 0.569 0.064 0.104',\n",
       "  '21 0.818 0.815 0.294 0.035',\n",
       "  '22 0.468 0.811 0.165 0.031',\n",
       "  '13 0.611 0.812 0.092 0.01',\n",
       "  '28 0.213 0.633 0.139 0.585',\n",
       "  '26 0.169 0.545 0.019 0.031',\n",
       "  '28 0.31 0.819 0.185 0.362',\n",
       "  '29 0.688 0.694 0.059 0.095',\n",
       "  '31 0.653 0.18 0.062 0.136',\n",
       "  '31 0.653 0.424 0.059 0.119',\n",
       "  '28 0.652 0.601 0.152 0.297',\n",
       "  '17 0.403 0.972 0.807 0.056']}"
      ]
     },
     "metadata": {},
     "execution_count": 55
    }
   ],
   "source": [
    "\n"
   ]
  },
  {
   "cell_type": "code",
   "execution_count": null,
   "metadata": {},
   "outputs": [],
   "source": [
    "data"
   ]
  },
  {
   "cell_type": "code",
   "execution_count": null,
   "metadata": {},
   "outputs": [],
   "source": []
  },
  {
   "cell_type": "code",
   "execution_count": 37,
   "metadata": {},
   "outputs": [
    {
     "output_type": "execute_result",
     "data": {
      "text/plain": [
       "{'id': 21,\n",
       " 'image_id': 84,\n",
       " 'category_id': 9,\n",
       " 'bbox': [273.07303370786565,\n",
       "  276.9505617977528,\n",
       "  269.6629213483146,\n",
       "  748.3146067415727]}"
      ]
     },
     "metadata": {},
     "execution_count": 37
    }
   ],
   "source": []
  },
  {
   "cell_type": "code",
   "execution_count": 48,
   "metadata": {},
   "outputs": [],
   "source": [
    "contents['annotations'][21]"
   ]
  },
  {
   "cell_type": "code",
   "execution_count": 49,
   "metadata": {},
   "outputs": [
    {
     "output_type": "execute_result",
     "data": {
      "text/plain": [
       "[273.07303370786565, 276.9505617977528, 269.6629213483146, 748.3146067415727]"
      ]
     },
     "metadata": {},
     "execution_count": 49
    }
   ],
   "source": [
    "test_bbox = contents['annotations'][21]['bbox']"
   ]
  },
  {
   "cell_type": "code",
   "execution_count": 40,
   "metadata": {},
   "outputs": [
    {
     "output_type": "execute_result",
     "data": {
      "text/plain": [
       "(0.212, 0.603, 0.14, 0.693)"
      ]
     },
     "metadata": {},
     "execution_count": 40
    }
   ],
   "source": [
    "test_bbox"
   ]
  },
  {
   "cell_type": "code",
   "execution_count": 41,
   "metadata": {},
   "outputs": [
    {
     "output_type": "execute_result",
     "data": {
      "text/plain": [
       "(0.212, 0.603, 0.14, 0.693)"
      ]
     },
     "metadata": {},
     "execution_count": 41
    }
   ],
   "source": [
    "coordinateCvt2YOLO(image_size, (test_bbox[0], test_bbox[0]+test_bbox[2], test_bbox[1], test_bbox[1]+test_bbox[3]))"
   ]
  },
  {
   "cell_type": "code",
   "execution_count": null,
   "metadata": {},
   "outputs": [],
   "source": [
    "bboxNormalize(image_size, test_bbox)"
   ]
  },
  {
   "cell_type": "code",
   "execution_count": null,
   "metadata": {},
   "outputs": [],
   "source": []
  },
  {
   "cell_type": "code",
   "execution_count": null,
   "metadata": {},
   "outputs": [],
   "source": []
  },
  {
   "cell_type": "code",
   "execution_count": null,
   "metadata": {},
   "outputs": [],
   "source": []
  },
  {
   "cell_type": "code",
   "execution_count": null,
   "metadata": {},
   "outputs": [],
   "source": []
  },
  {
   "cell_type": "code",
   "execution_count": null,
   "metadata": {},
   "outputs": [],
   "source": []
  },
  {
   "cell_type": "code",
   "execution_count": 17,
   "metadata": {},
   "outputs": [],
   "source": []
  },
  {
   "cell_type": "code",
   "execution_count": 91,
   "metadata": {},
   "outputs": [
    {
     "output_type": "execute_result",
     "data": {
      "text/plain": [
       "32"
      ]
     },
     "metadata": {},
     "execution_count": 91
    }
   ],
   "source": [
    "# label name file 생성\n",
    "\n",
    "label_names = []\n",
    "\n",
    "for i in contents['categories']:\n",
    "    if i['id'] <= 31:\n",
    "        label_names.append(i['name'])\n",
    "\n",
    "with open('./obj_name.txt', 'w') as f:\n",
    "    for i in label_names:\n",
    "        f.write(i + '\\n')"
   ]
  },
  {
   "cell_type": "code",
   "execution_count": null,
   "metadata": {},
   "outputs": [],
   "source": [
    "len(label_names)"
   ]
  }
 ]
}