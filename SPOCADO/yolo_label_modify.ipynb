{
 "metadata": {
  "language_info": {
   "codemirror_mode": {
    "name": "ipython",
    "version": 3
   },
   "file_extension": ".py",
   "mimetype": "text/x-python",
   "name": "python",
   "nbconvert_exporter": "python",
   "pygments_lexer": "ipython3",
   "version": "3.6.9-final"
  },
  "orig_nbformat": 2,
  "kernelspec": {
   "name": "Python 3.6.9 64-bit",
   "display_name": "Python 3.6.9 64-bit",
   "metadata": {
    "interpreter": {
     "hash": "30295c5bec572e859485b1ffa5e89b8b3e2022ef6e3e739c1ac40f143a557caf"
    }
   }
  }
 },
 "nbformat": 4,
 "nbformat_minor": 2,
 "cells": [
  {
   "cell_type": "code",
   "execution_count": 1,
   "metadata": {},
   "outputs": [],
   "source": [
    "import os\n",
    "import numpy as np"
   ]
  },
  {
   "source": [
    "### 바꿀 class 설정 (원래 class id : 바꿀 class id)"
   ],
   "cell_type": "markdown",
   "metadata": {}
  },
  {
   "cell_type": "code",
   "execution_count": 20,
   "metadata": {},
   "outputs": [],
   "source": [
    "cls_dic = {'0' : 0, \n",
    "        '1': 0, \n",
    "        '2' : 1, \n",
    "        '3' : 1, \n",
    "        '4' : 1, \n",
    "        '5' : 2\n",
    "        }"
   ]
  },
  {
   "source": [
    "### label path 설정"
   ],
   "cell_type": "markdown",
   "metadata": {}
  },
  {
   "cell_type": "code",
   "execution_count": 30,
   "metadata": {},
   "outputs": [],
   "source": [
    "label_file_path = '/local_hdd/works/ICRyu_workspace/for_yolo/dataset/data2/label_2_converted'\n",
    "after_label_file_path = '/local_hdd/works/ICRyu_workspace/for_yolo/dataset/data2/label_2_converted_modified'"
   ]
  },
  {
   "cell_type": "code",
   "execution_count": 5,
   "metadata": {},
   "outputs": [],
   "source": [
    "label_file_list = os.listdir(label_file_path)"
   ]
  },
  {
   "cell_type": "code",
   "execution_count": 8,
   "metadata": {},
   "outputs": [
    {
     "output_type": "execute_result",
     "data": {
      "text/plain": [
       "7481"
      ]
     },
     "metadata": {},
     "execution_count": 8
    }
   ],
   "source": [
    "len(label_file_list)"
   ]
  },
  {
   "cell_type": "code",
   "execution_count": 9,
   "metadata": {},
   "outputs": [
    {
     "output_type": "execute_result",
     "data": {
      "text/plain": [
       "'000445.txt'"
      ]
     },
     "metadata": {},
     "execution_count": 9
    }
   ],
   "source": [
    "label_file_list[0]"
   ]
  },
  {
   "cell_type": "code",
   "execution_count": null,
   "metadata": {},
   "outputs": [],
   "source": []
  },
  {
   "source": [
    "### 바꿔줌."
   ],
   "cell_type": "markdown",
   "metadata": {}
  },
  {
   "cell_type": "code",
   "execution_count": 32,
   "metadata": {},
   "outputs": [],
   "source": [
    "for each_file in label_file_list:\n",
    "\n",
    "    with open(os.path.join(label_file_path, each_file), 'r') as bf:\n",
    "        label = bf.readlines()\n",
    "    \n",
    "    new_label = []\n",
    "\n",
    "    for each_line in label:\n",
    "        new_line = f'{cls_dic[each_line[0]]}{each_line[1:]}'\n",
    "        new_label.append(new_line)\n",
    "\n",
    "    with open(os.path.join(after_label_file_path, each_file), 'w') as af:\n",
    "        for i in new_label:\n",
    "            af.write(i)"
   ]
  },
  {
   "cell_type": "code",
   "execution_count": null,
   "metadata": {},
   "outputs": [],
   "source": []
  },
  {
   "cell_type": "code",
   "execution_count": null,
   "metadata": {},
   "outputs": [],
   "source": []
  },
  {
   "cell_type": "code",
   "execution_count": null,
   "metadata": {},
   "outputs": [],
   "source": []
  },
  {
   "cell_type": "code",
   "execution_count": null,
   "metadata": {},
   "outputs": [],
   "source": []
  },
  {
   "cell_type": "code",
   "execution_count": null,
   "metadata": {},
   "outputs": [],
   "source": []
  },
  {
   "source": [
    "### 연습"
   ],
   "cell_type": "markdown",
   "metadata": {}
  },
  {
   "cell_type": "code",
   "execution_count": 11,
   "metadata": {},
   "outputs": [],
   "source": [
    "each_file = label_file_list[0]"
   ]
  },
  {
   "cell_type": "code",
   "execution_count": 14,
   "metadata": {},
   "outputs": [],
   "source": [
    "with open(os.path.join(label_file_path, each_file), 'r') as bf:\n",
    "    label = bf.readlines()\n",
    "    \n",
    "new_label = []\n",
    "\n",
    "for each_line in label:\n",
    "    new_line = f'{cls_dic[each_line[0]]}{each_line[1:]}'\n",
    "    new_label.append(new_line)\n",
    "\n",
    "with open(os.path.join(after_label_file_path, each_file), 'w') as af:\n",
    "    for i in new_label:\n",
    "        af.write(i)"
   ]
  },
  {
   "cell_type": "code",
   "execution_count": 15,
   "metadata": {},
   "outputs": [
    {
     "output_type": "execute_result",
     "data": {
      "text/plain": [
       "['2 0.499 0.529 0.048 0.131\\n',\n",
       " '2 0.05 0.746 0.101 0.503\\n',\n",
       " '2 0.142 0.699 0.215 0.383\\n',\n",
       " '2 0.279 0.56 0.111 0.192\\n',\n",
       " '2 0.391 0.596 0.1 0.2\\n',\n",
       " '2 0.417 0.555 0.057 0.159\\n',\n",
       " '2 0.363 0.529 0.072 0.106\\n',\n",
       " '4 0.859 0.499 0.281 0.997\\n',\n",
       " '0 0.737 0.689 0.057 0.431\\n',\n",
       " '2 0.679 0.653 0.172 0.355\\n',\n",
       " '2 0.611 0.586 0.1 0.203\\n',\n",
       " '2 0.578 0.528 0.06 0.159\\n',\n",
       " '2 0.532 0.496 0.029 0.073\\n',\n",
       " '3 0.529 0.44 0.037 0.146\\n',\n",
       " '4 0.059 0.571 0.117 0.421\\n',\n",
       " '2 0.492 0.505 0.031 0.093\\n',\n",
       " '2 0.189 0.515 0.07 0.097\\n']"
      ]
     },
     "metadata": {},
     "execution_count": 15
    }
   ],
   "source": [
    "label"
   ]
  },
  {
   "cell_type": "code",
   "execution_count": 16,
   "metadata": {},
   "outputs": [],
   "source": [
    "each_line = label[0]"
   ]
  },
  {
   "cell_type": "code",
   "execution_count": 27,
   "metadata": {},
   "outputs": [],
   "source": [
    "new_label = []\n",
    "\n",
    "for each_line in label:\n",
    "    new_line = f'{cls_dic[each_line[0]]}{each_line[1:]}'\n",
    "    new_label.append(new_line)\n",
    "\n",
    "with open(os.path.join(after_label_file_path, each_file), 'w') as af:\n",
    "    for i in new_label:\n",
    "        af.write(i)"
   ]
  },
  {
   "cell_type": "code",
   "execution_count": 28,
   "metadata": {},
   "outputs": [
    {
     "output_type": "execute_result",
     "data": {
      "text/plain": [
       "['1 0.499 0.529 0.048 0.131\\n',\n",
       " '1 0.05 0.746 0.101 0.503\\n',\n",
       " '1 0.142 0.699 0.215 0.383\\n',\n",
       " '1 0.279 0.56 0.111 0.192\\n',\n",
       " '1 0.391 0.596 0.1 0.2\\n',\n",
       " '1 0.417 0.555 0.057 0.159\\n',\n",
       " '1 0.363 0.529 0.072 0.106\\n',\n",
       " '1 0.859 0.499 0.281 0.997\\n',\n",
       " '0 0.737 0.689 0.057 0.431\\n',\n",
       " '1 0.679 0.653 0.172 0.355\\n',\n",
       " '1 0.611 0.586 0.1 0.203\\n',\n",
       " '1 0.578 0.528 0.06 0.159\\n',\n",
       " '1 0.532 0.496 0.029 0.073\\n',\n",
       " '1 0.529 0.44 0.037 0.146\\n',\n",
       " '1 0.059 0.571 0.117 0.421\\n',\n",
       " '1 0.492 0.505 0.031 0.093\\n',\n",
       " '1 0.189 0.515 0.07 0.097\\n']"
      ]
     },
     "metadata": {},
     "execution_count": 28
    }
   ],
   "source": [
    "new_label"
   ]
  },
  {
   "cell_type": "code",
   "execution_count": null,
   "metadata": {},
   "outputs": [],
   "source": []
  },
  {
   "cell_type": "code",
   "execution_count": 29,
   "metadata": {},
   "outputs": [
    {
     "output_type": "execute_result",
     "data": {
      "text/plain": [
       "'000445.txt'"
      ]
     },
     "metadata": {},
     "execution_count": 29
    }
   ],
   "source": [
    "each_file"
   ]
  },
  {
   "cell_type": "code",
   "execution_count": null,
   "metadata": {},
   "outputs": [],
   "source": [
    "with open(os.path.join(after_label_file_path, each_file), 'w') as af:\n",
    "    for i in new_label:\n",
    "        af.write(i)\n"
   ]
  },
  {
   "cell_type": "code",
   "execution_count": null,
   "metadata": {},
   "outputs": [],
   "source": []
  },
  {
   "cell_type": "code",
   "execution_count": null,
   "metadata": {},
   "outputs": [],
   "source": []
  },
  {
   "cell_type": "code",
   "execution_count": null,
   "metadata": {},
   "outputs": [],
   "source": []
  },
  {
   "cell_type": "code",
   "execution_count": null,
   "metadata": {},
   "outputs": [],
   "source": []
  },
  {
   "cell_type": "code",
   "execution_count": null,
   "metadata": {},
   "outputs": [],
   "source": []
  }
 ]
}