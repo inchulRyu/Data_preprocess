{
 "metadata": {
  "orig_nbformat": 2,
  "kernelspec": {
   "name": "python3",
   "display_name": "Python 3",
   "language": "python"
  }
 },
 "nbformat": 4,
 "nbformat_minor": 2,
 "cells": [
  {
   "cell_type": "code",
   "execution_count": 5,
   "metadata": {},
   "outputs": [],
   "source": [
    "# og_train_path = '/local_hdd/works/ICRyu_workspace/for_yolo/train/novacos'\n",
    "# save_train_path = '/local_hdd/works/ICRyu_workspace/for_yolo/train/novacos'\n",
    "# save_validation_path = '/local_hdd/works/ICRyu_workspace/for_yolo/train/novacos'\n",
    "og_train_path = '/local_hdd/works/ICRyu_workspace/for_yolo/train/spocado'\n",
    "save_train_path = '/local_hdd/works/ICRyu_workspace/for_yolo/train/spocado'\n",
    "save_validation_path = '/local_hdd/works/ICRyu_workspace/for_yolo/train/spocado'"
   ]
  },
  {
   "cell_type": "code",
   "execution_count": 6,
   "metadata": {},
   "outputs": [],
   "source": [
    "train_og_file_name = 'yolov4_spocado_ryu_v01_train_og.txt'"
   ]
  },
  {
   "cell_type": "code",
   "execution_count": null,
   "metadata": {},
   "outputs": [],
   "source": []
  },
  {
   "cell_type": "code",
   "execution_count": 7,
   "metadata": {},
   "outputs": [],
   "source": [
    "import random\n",
    "import os\n",
    "import numpy as np\n",
    "import shutil\n",
    "from tqdm import tqdm"
   ]
  },
  {
   "source": [
    "## train set , validation set 분리 (text 파일)"
   ],
   "cell_type": "markdown",
   "metadata": {}
  },
  {
   "cell_type": "code",
   "execution_count": 8,
   "metadata": {},
   "outputs": [
    {
     "output_type": "stream",
     "name": "stdout",
     "text": [
      "3560\n"
     ]
    }
   ],
   "source": [
    "txt = open(os.path.join(og_train_path, train_og_file_name),'r')\n",
    "contents = txt.readlines()\n",
    "\n",
    "random.shuffle(contents)\n",
    "\n",
    "count = 0\n",
    "length = len(contents) #total line\n",
    "split_ratio = 0.1 # 비율 설정.\n",
    "\n",
    "\n",
    "i = 0\n",
    "train_cnt = 0\n",
    "\n",
    "train_file_name = os.path.splitext(train_og_file_name)[0][:-3]\n",
    "val_file_name = os.path.splitext(train_og_file_name)[0][:-8]+'validation'\n",
    "\n",
    "f = open(os.path.join(save_train_path, train_file_name + os.path.splitext(train_og_file_name)[1]),'w')\n",
    "f2 = open(os.path.join(save_validation_path, val_file_name + os.path.splitext(train_og_file_name)[1]),'w')\n",
    "\n",
    "\n",
    "for line in contents:\n",
    "    count += 1\n",
    "    if count < int(length*split_ratio) :\n",
    "        f2.write(line)\n",
    "    else :\n",
    "        train_cnt += 1\n",
    "        f.write(line)\n",
    "\n",
    "print(train_cnt)\n",
    "\n",
    "txt.close()\n",
    "f.close()\n",
    "f2.close()"
   ]
  },
  {
   "cell_type": "code",
   "execution_count": 11,
   "metadata": {},
   "outputs": [],
   "source": [
    "with open(os.path.join(og_train_path, train_og_file_name),'r') as f:\n",
    "    file_list = f.readlines()\n",
    "\n",
    "\n"
   ]
  },
  {
   "cell_type": "code",
   "execution_count": 15,
   "metadata": {},
   "outputs": [],
   "source": [
    "each_file = file_list[100]"
   ]
  },
  {
   "cell_type": "code",
   "execution_count": 17,
   "metadata": {},
   "outputs": [
    {
     "output_type": "execute_result",
     "data": {
      "text/plain": [
       "'/local_hdd/works/ICRyu_workspace/for_yolo/dataset/kitti_filtered/006786.txt'"
      ]
     },
     "metadata": {},
     "execution_count": 17
    }
   ],
   "source": [
    "os.path.splitext(each_file.replace('\\n', ''))[0]+'.txt'"
   ]
  },
  {
   "source": [
    "## (파일 자체를 분리)"
   ],
   "cell_type": "markdown",
   "metadata": {}
  },
  {
   "cell_type": "code",
   "execution_count": 4,
   "metadata": {},
   "outputs": [],
   "source": [
    "import random\n",
    "import os\n",
    "import numpy as np\n",
    "import shutil\n",
    "from tqdm import tqdm"
   ]
  },
  {
   "cell_type": "code",
   "execution_count": 5,
   "metadata": {},
   "outputs": [],
   "source": [
    "img_path = '/DL_data_big/AI_factory_dataset/tracking_recognition/ai_factory_tracking/dataset/train_img'\n",
    "img_val_path = '/DL_data_big/AI_factory_dataset/tracking_recognition/ai_factory_tracking/dataset/val_img'\n",
    "label_path = '/DL_data_big/AI_factory_dataset/tracking_recognition/ai_factory_tracking/dataset/train_label_norm'\n",
    "label_val_path = '/DL_data_big/AI_factory_dataset/tracking_recognition/ai_factory_tracking/dataset/val_label'"
   ]
  },
  {
   "cell_type": "code",
   "execution_count": 6,
   "metadata": {
    "tags": []
   },
   "outputs": [
    {
     "output_type": "stream",
     "name": "stderr",
     "text": [
      "100%|██████████| 1840/1840 [00:01<00:00, 934.15it/s]\n",
      "100%|██████████| 1840/1840 [00:01<00:00, 1011.05it/s]\n",
      "1840 files moved\n",
      "END\n",
      "\n"
     ]
    }
   ],
   "source": [
    "file_list = os.listdir(img_path)\n",
    "random.shuffle(file_list)\n",
    "\n",
    "count = 0\n",
    "length = len(file_list) #total line\n",
    "split_ratio = 0.1 # 비율 설정.\n",
    "\n",
    "i = 0\n",
    "\n",
    "move_files = []\n",
    "\n",
    "# 옮길 파일 리스트 작성\n",
    "for each_file in file_list:\n",
    "    count += 1\n",
    "    move_files.append(each_file)\n",
    "    if count >= length*split_ratio:\n",
    "        break\n",
    "\n",
    "# 이미지 파일 옮김\n",
    "for each_file in tqdm(move_files):\n",
    "    # print(f'{img_path}/{each_file} >> {img_val_path}/{each_file}')\n",
    "    shutil.move(os.path.join(img_path, each_file), os.path.join(img_val_path, each_file))\n",
    "\n",
    "# label 파일 옮김\n",
    "for each_file in tqdm(move_files):\n",
    "    # print(f'{img_path}/{each_file} >> {img_val_path}/{each_file}')\n",
    "    file_name = os.path.splitext(each_file)[0]\n",
    "    file_ext = os.path.splitext(each_file)[1]\n",
    "    label_file_name = file_name+'.txt'\n",
    "    shutil.move(os.path.join(label_path, label_file_name), os.path.join(label_val_path, label_file_name))\n",
    "\n",
    "\n",
    "print()\n",
    "print(f'{count} files moved')\n",
    "print('END')\n"
   ]
  },
  {
   "cell_type": "code",
   "execution_count": null,
   "metadata": {},
   "outputs": [],
   "source": []
  },
  {
   "cell_type": "code",
   "execution_count": 18,
   "metadata": {},
   "outputs": [],
   "source": [
    "img_path = '/local_hdd/works/ICRyu_workspace/for_yolo/dataset/novacos_filtered'\n",
    "label_path = '/local_hdd/works/ICRyu_workspace/for_yolo/dataset/novacos_filtered'"
   ]
  },
  {
   "cell_type": "code",
   "execution_count": 32,
   "metadata": {},
   "outputs": [],
   "source": [
    "names = ['person', 'vehicle', 'twowheeler']"
   ]
  },
  {
   "source": [
    "## 라벨 로딩 및 통계"
   ],
   "cell_type": "markdown",
   "metadata": {}
  },
  {
   "cell_type": "code",
   "execution_count": 9,
   "metadata": {},
   "outputs": [
    {
     "output_type": "error",
     "ename": "NameError",
     "evalue": "name 'label_path' is not defined",
     "traceback": [
      "\u001b[0;31m---------------------------------------------------------------------------\u001b[0m",
      "\u001b[0;31mNameError\u001b[0m                                 Traceback (most recent call last)",
      "\u001b[0;32m<ipython-input-9-78be5cc7f7cf>\u001b[0m in \u001b[0;36m<module>\u001b[0;34m\u001b[0m\n\u001b[0;32m----> 1\u001b[0;31m \u001b[0mlabel_file_list\u001b[0m \u001b[0;34m=\u001b[0m \u001b[0mlist\u001b[0m\u001b[0;34m(\u001b[0m\u001b[0mfilter\u001b[0m\u001b[0;34m(\u001b[0m\u001b[0;32mlambda\u001b[0m \u001b[0mx\u001b[0m\u001b[0;34m:\u001b[0m \u001b[0mos\u001b[0m\u001b[0;34m.\u001b[0m\u001b[0mpath\u001b[0m\u001b[0;34m.\u001b[0m\u001b[0msplitext\u001b[0m\u001b[0;34m(\u001b[0m\u001b[0mx\u001b[0m\u001b[0;34m)\u001b[0m\u001b[0;34m[\u001b[0m\u001b[0;36m1\u001b[0m\u001b[0;34m]\u001b[0m \u001b[0;34m==\u001b[0m \u001b[0;34m'.txt'\u001b[0m\u001b[0;34m,\u001b[0m \u001b[0mos\u001b[0m\u001b[0;34m.\u001b[0m\u001b[0mlistdir\u001b[0m\u001b[0;34m(\u001b[0m\u001b[0mlabel_path\u001b[0m\u001b[0;34m)\u001b[0m\u001b[0;34m)\u001b[0m\u001b[0;34m)\u001b[0m\u001b[0;34m\u001b[0m\u001b[0;34m\u001b[0m\u001b[0m\n\u001b[0m",
      "\u001b[0;31mNameError\u001b[0m: name 'label_path' is not defined"
     ]
    }
   ],
   "source": [
    "label_file_list = list(filter(lambda x: os.path.splitext(x)[1] == '.txt', os.listdir(label_path)))"
   ]
  },
  {
   "cell_type": "code",
   "execution_count": 22,
   "metadata": {},
   "outputs": [
    {
     "output_type": "execute_result",
     "data": {
      "text/plain": [
       "7767"
      ]
     },
     "metadata": {},
     "execution_count": 22
    }
   ],
   "source": [
    "len(label_file_list)"
   ]
  },
  {
   "cell_type": "code",
   "execution_count": 43,
   "metadata": {},
   "outputs": [],
   "source": [
    "label_data = {}\n",
    "label_state = {}\n",
    "for i in names:\n",
    "    label_state[i] = 0"
   ]
  },
  {
   "cell_type": "code",
   "execution_count": 44,
   "metadata": {},
   "outputs": [
    {
     "output_type": "execute_result",
     "data": {
      "text/plain": [
       "{'person': 0, 'vehicle': 0, 'twowheeler': 0}"
      ]
     },
     "metadata": {},
     "execution_count": 44
    }
   ],
   "source": [
    "label_state"
   ]
  },
  {
   "cell_type": "code",
   "execution_count": 45,
   "metadata": {},
   "outputs": [
    {
     "output_type": "stream",
     "name": "stderr",
     "text": [
      "100%|██████████| 7767/7767 [00:00<00:00, 32020.99it/s]\n"
     ]
    }
   ],
   "source": [
    "for each_file in tqdm(label_file_list):\n",
    "    with open(os.path.join(label_path,each_file), 'r') as f:\n",
    "        contents = list(map(lambda x: x.split(), f.readlines()))\n",
    "\n",
    "    each_file_data = np.zeros(len(names), dtype='int8')\n",
    "\n",
    "    for l in contents:\n",
    "        class_id = int(l[0])\n",
    "        label_state[names[class_id]] += 1\n",
    "        each_file_data[class_id] += 1\n",
    "\n",
    "    label_data[each_file] = each_file_data"
   ]
  },
  {
   "cell_type": "code",
   "execution_count": 46,
   "metadata": {},
   "outputs": [
    {
     "output_type": "execute_result",
     "data": {
      "text/plain": [
       "{'person': 9544, 'vehicle': 21185, 'twowheeler': 1671}"
      ]
     },
     "metadata": {},
     "execution_count": 46
    }
   ],
   "source": [
    "label_state"
   ]
  },
  {
   "source": [
    "## 라벨 분리하기"
   ],
   "cell_type": "markdown",
   "metadata": {}
  },
  {
   "cell_type": "code",
   "execution_count": 48,
   "metadata": {},
   "outputs": [],
   "source": [
    "split_ratio = 0.1"
   ]
  },
  {
   "cell_type": "code",
   "execution_count": 52,
   "metadata": {},
   "outputs": [
    {
     "output_type": "execute_result",
     "data": {
      "text/plain": [
       "['twowheeler']"
      ]
     },
     "metadata": {},
     "execution_count": 52
    }
   ],
   "source": [
    "[k for k, v in label_state.items() if v == min(label_state.values())]"
   ]
  },
  {
   "cell_type": "code",
   "execution_count": null,
   "metadata": {},
   "outputs": [],
   "source": [
    "label_data[]"
   ]
  },
  {
   "cell_type": "code",
   "execution_count": null,
   "metadata": {},
   "outputs": [],
   "source": []
  },
  {
   "cell_type": "code",
   "execution_count": 63,
   "metadata": {},
   "outputs": [],
   "source": [
    "train_label_data = {}\n",
    "val_label_data = {}\n",
    "\n",
    "train_label_state = {}\n",
    "val_label_state = {}\n",
    "for i in names: train_label_state[i] = 0\n",
    "for i in names: val_label_state[i] = 0\n"
   ]
  },
  {
   "cell_type": "code",
   "execution_count": 64,
   "metadata": {},
   "outputs": [
    {
     "output_type": "stream",
     "name": "stdout",
     "text": [
      "train set state\n{'person': 0, 'vehicle': 0, 'twowheeler': 0}\n\nvalidation set state\n{'person': 0, 'vehicle': 0, 'twowheeler': 0}\n"
     ]
    }
   ],
   "source": [
    "print('train set state')\n",
    "print(train_label_state)\n",
    "print('\\nvalidation set state')\n",
    "print(val_label_state)"
   ]
  },
  {
   "cell_type": "code",
   "execution_count": null,
   "metadata": {},
   "outputs": [],
   "source": [
    "for each_data in label_data.items():"
   ]
  },
  {
   "cell_type": "code",
   "execution_count": 68,
   "metadata": {},
   "outputs": [],
   "source": [
    "rand_list = random.shuffle(list(label_data.keys()))"
   ]
  },
  {
   "cell_type": "code",
   "execution_count": null,
   "metadata": {},
   "outputs": [],
   "source": [
    "split_point = split_ratio*len(rand_list)\n",
    "for i, k in enumerate(rand_list):\n",
    "    if i <= split_point:\n",
    "        val_label_data[k] = label_data[k]\n",
    "    else:\n",
    "        train_label_data[k] = label_data[k]"
   ]
  },
  {
   "cell_type": "code",
   "execution_count": null,
   "metadata": {},
   "outputs": [],
   "source": []
  },
  {
   "cell_type": "code",
   "execution_count": null,
   "metadata": {},
   "outputs": [],
   "source": []
  },
  {
   "cell_type": "code",
   "execution_count": null,
   "metadata": {},
   "outputs": [],
   "source": []
  },
  {
   "cell_type": "code",
   "execution_count": null,
   "metadata": {},
   "outputs": [],
   "source": []
  },
  {
   "cell_type": "code",
   "execution_count": null,
   "metadata": {},
   "outputs": [],
   "source": []
  },
  {
   "cell_type": "code",
   "execution_count": 4,
   "metadata": {},
   "outputs": [],
   "source": [
    "import numpy as np"
   ]
  },
  {
   "cell_type": "code",
   "execution_count": 38,
   "metadata": {},
   "outputs": [],
   "source": [
    "test_a = np.array([0,1,2,0,0,0])"
   ]
  },
  {
   "cell_type": "code",
   "execution_count": 39,
   "metadata": {},
   "outputs": [],
   "source": [
    "mask = test_a == 0"
   ]
  },
  {
   "cell_type": "code",
   "execution_count": 40,
   "metadata": {},
   "outputs": [
    {
     "output_type": "execute_result",
     "data": {
      "text/plain": [
       "array([ True, False, False,  True,  True,  True])"
      ]
     },
     "metadata": {},
     "execution_count": 40
    }
   ],
   "source": [
    "mask"
   ]
  },
  {
   "cell_type": "code",
   "execution_count": 45,
   "metadata": {},
   "outputs": [],
   "source": [
    "test_b = np.array([1,2,3,4,5,6])"
   ]
  },
  {
   "cell_type": "code",
   "execution_count": 46,
   "metadata": {},
   "outputs": [
    {
     "output_type": "execute_result",
     "data": {
      "text/plain": [
       "array([1, 4, 5, 6])"
      ]
     },
     "metadata": {},
     "execution_count": 46
    }
   ],
   "source": [
    "test_b[mask]"
   ]
  },
  {
   "cell_type": "code",
   "execution_count": 52,
   "metadata": {},
   "outputs": [],
   "source": [
    "test_c = np.array([[1,1,2], [2,1,2], [3,1,2]])"
   ]
  },
  {
   "cell_type": "code",
   "execution_count": 53,
   "metadata": {},
   "outputs": [
    {
     "output_type": "execute_result",
     "data": {
      "text/plain": [
       "array([1, 1, 1])"
      ]
     },
     "metadata": {},
     "execution_count": 53
    }
   ],
   "source": [
    "test_c[:,1]"
   ]
  },
  {
   "cell_type": "code",
   "execution_count": 59,
   "metadata": {},
   "outputs": [],
   "source": [
    "bbox_xywh = np.empty((0, 4), float)"
   ]
  },
  {
   "cell_type": "code",
   "execution_count": 64,
   "metadata": {},
   "outputs": [],
   "source": [
    "x,y,w,h = 5,6,7,8"
   ]
  },
  {
   "cell_type": "code",
   "execution_count": 65,
   "metadata": {},
   "outputs": [],
   "source": [
    "bbox_xywh = np.append(bbox_xywh, np.array([[x, y, w, h]]), axis = 0)"
   ]
  },
  {
   "cell_type": "code",
   "execution_count": 66,
   "metadata": {},
   "outputs": [
    {
     "output_type": "execute_result",
     "data": {
      "text/plain": [
       "array([[0., 1., 2., 3.],\n",
       "       [5., 6., 7., 8.]])"
      ]
     },
     "metadata": {},
     "execution_count": 66
    }
   ],
   "source": [
    "bbox_xywh"
   ]
  },
  {
   "cell_type": "code",
   "execution_count": 70,
   "metadata": {},
   "outputs": [],
   "source": [
    "test_1 = np.array([10,1,5,20])"
   ]
  },
  {
   "cell_type": "code",
   "execution_count": 71,
   "metadata": {},
   "outputs": [
    {
     "output_type": "execute_result",
     "data": {
      "text/plain": [
       "array([1, 2, 0, 3])"
      ]
     },
     "metadata": {},
     "execution_count": 71
    }
   ],
   "source": [
    "np.argsort(test_1)"
   ]
  },
  {
   "cell_type": "code",
   "execution_count": null,
   "metadata": {},
   "outputs": [],
   "source": []
  }
 ]
}