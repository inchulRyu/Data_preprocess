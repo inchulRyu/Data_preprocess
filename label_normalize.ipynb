{
 "metadata": {
  "language_info": {
   "codemirror_mode": {
    "name": "ipython",
    "version": 3
   },
   "file_extension": ".py",
   "mimetype": "text/x-python",
   "name": "python",
   "nbconvert_exporter": "python",
   "pygments_lexer": "ipython3",
   "version": "3.6.9-final"
  },
  "orig_nbformat": 2,
  "kernelspec": {
   "name": "python3",
   "display_name": "Python 3",
   "language": "python"
  }
 },
 "nbformat": 4,
 "nbformat_minor": 2,
 "cells": [
  {
   "cell_type": "code",
   "execution_count": 58,
   "metadata": {},
   "outputs": [],
   "source": [
    "import os\n",
    "from tqdm import tqdm\n",
    "import shutil"
   ]
  },
  {
   "cell_type": "code",
   "execution_count": null,
   "metadata": {},
   "outputs": [],
   "source": []
  },
  {
   "cell_type": "code",
   "execution_count": 59,
   "metadata": {},
   "outputs": [],
   "source": [
    "img_w, img_h = 3840, 2160"
   ]
  },
  {
   "cell_type": "code",
   "execution_count": 60,
   "metadata": {},
   "outputs": [],
   "source": [
    "def bbox_check(xywh):\n",
    "    x, y, w, h = xywh\n",
    "    x1 = x-w/2\n",
    "    x2 = x+w/2\n",
    "    y1 = y-h/2\n",
    "    y2 = y+h/2\n",
    "\n",
    "    if x1 < 0:\n",
    "        x1 = 0\n",
    "    if y1 < 0:\n",
    "        y1 = 0\n",
    "    if x2 > 1:\n",
    "        x2 = 1\n",
    "    if y2 > 1:\n",
    "        y2 = 1\n",
    "\n",
    "    x = round((x1+x2)/2,6)\n",
    "    y = round((y1+y2)/2,6)\n",
    "    w = round(x2-x1,6)\n",
    "    h = round(y2-y1,6)\n",
    "\n",
    "    return x, y, w, h\n"
   ]
  },
  {
   "cell_type": "code",
   "execution_count": 67,
   "metadata": {},
   "outputs": [],
   "source": [
    "def xmymwh2xcycwh(xmymwh):\n",
    "    x_min, y_min, w, h = list(map(int,xmymwh))\n",
    "\n",
    "    x_center = int(x_min + w/2)\n",
    "    y_center = int(y_min + h/2)\n",
    "\n",
    "    x_center = x_center/img_w\n",
    "    y_center = y_center/img_h\n",
    "    w = w/img_w\n",
    "    h = h/img_h\n",
    "\n",
    "    x_center, y_center, w, h = bbox_check([x_center, y_center, w, h])\n",
    "\n",
    "    return x_center, y_center, w, h\n"
   ]
  },
  {
   "cell_type": "code",
   "execution_count": 62,
   "metadata": {},
   "outputs": [],
   "source": [
    "label_file_path = '/DL_data_big/AI_factory_dataset/tracking_recognition/ai_factory_tracking/dataset/train_label'\n",
    "save_path = '/DL_data_big/AI_factory_dataset/tracking_recognition/ai_factory_tracking/dataset/train_label_norm'"
   ]
  },
  {
   "cell_type": "code",
   "execution_count": 63,
   "metadata": {},
   "outputs": [],
   "source": [
    "label_files = os.listdir(label_file_path)"
   ]
  },
  {
   "cell_type": "code",
   "execution_count": 68,
   "metadata": {},
   "outputs": [],
   "source": [
    "shutil.rmtree(save_path)\n",
    "os.makedirs(save_path)"
   ]
  },
  {
   "cell_type": "code",
   "execution_count": 69,
   "metadata": {
    "tags": []
   },
   "outputs": [
    {
     "output_type": "stream",
     "name": "stderr",
     "text": [
      "100%|██████████| 18394/18394 [03:22<00:00, 90.65it/s]\n"
     ]
    }
   ],
   "source": [
    "\n",
    "for each_file in tqdm(label_files):\n",
    "    with open(os.path.join(label_file_path, each_file), 'r') as f:\n",
    "        data_tmp = list(map(lambda x: x.split(), f.readlines()))\n",
    "        data = []\n",
    "        for i, e in enumerate(data_tmp):\n",
    "            each_label = e.copy()\n",
    "            each_label[1:] = xmymwh2xcycwh(each_label[1:])\n",
    "            if each_label[3] <= 0 or each_label[4] <= 0:\n",
    "                continue\n",
    "            each_label[1:] = list(map(str, each_label[1:]))\n",
    "            data.append(' '.join(each_label)+'\\n')\n",
    "        with open(os.path.join(save_path, each_file), 'w') as sf:\n",
    "            sf.writelines(data)\n",
    "            "
   ]
  },
  {
   "cell_type": "code",
   "execution_count": 36,
   "metadata": {},
   "outputs": [
    {
     "output_type": "stream",
     "name": "stdout",
     "text": [
      "2782151_frame_5104.txt\n"
     ]
    }
   ],
   "source": [
    "each_file = '2782151_frame_5104.txt'\n",
    "print(each_file)"
   ]
  },
  {
   "cell_type": "code",
   "execution_count": 47,
   "metadata": {},
   "outputs": [
    {
     "output_type": "stream",
     "name": "stdout",
     "text": [
      "[0.20677083333333332, 0.22407407407407406, 0.055989583333333315, 0.15740740740740738]\n[0.5419270833333333, 0.946412037037037, 0.1455729166666666, 0.10717592592592595]\n[0.25104166666666666, 0.21990740740740744, 0.030989583333333348, 0.1453703703703704]\n[0.3927083333333333, 0.17407407407407408, 0.01953125, 0.0935185185185185]\n[0.06536458333333334, 0.19444444444444445, 0.028385416666666663, 0.10694444444444445]\n[0.08229166666666667, 0.16157407407407406, 0.028385416666666663, 0.10555555555555557]\n[0.4361979166666667, 0.2101851851851852, 0.02213541666666663, 0.1078703703703704]\n"
     ]
    }
   ],
   "source": [
    "with open(os.path.join(label_file_path, each_file), 'r') as f:\n",
    "    data_tmp = list(map(lambda x: x.split(), f.readlines()))\n",
    "    data = []\n",
    "    for e in data_tmp:\n",
    "        e[1:] = list(map(int, e[1:]))\n",
    "        e[1:] = xmymwh2xcycwh(e[1:])\n",
    "        e[1:] = list(map(str, e[1:]))"
   ]
  },
  {
   "cell_type": "code",
   "execution_count": 38,
   "metadata": {},
   "outputs": [
    {
     "output_type": "execute_result",
     "data": {
      "text/plain": [
       "[['5',\n",
       "  '0.20677083333333332',\n",
       "  '0.22407407407407406',\n",
       "  '0.055989583333333315',\n",
       "  '0.15740740740740738'],\n",
       " ['0',\n",
       "  '0.5419270833333333',\n",
       "  '1.0847222222222221',\n",
       "  '0.1455729166666666',\n",
       "  '0.3837962962962962'],\n",
       " ['0',\n",
       "  '0.25104166666666666',\n",
       "  '0.21990740740740744',\n",
       "  '0.030989583333333348',\n",
       "  '0.1453703703703704'],\n",
       " ['0',\n",
       "  '0.3927083333333333',\n",
       "  '0.17407407407407408',\n",
       "  '0.01953125',\n",
       "  '0.0935185185185185'],\n",
       " ['0',\n",
       "  '0.06536458333333334',\n",
       "  '0.19444444444444445',\n",
       "  '0.028385416666666663',\n",
       "  '0.10694444444444445'],\n",
       " ['0',\n",
       "  '0.08229166666666667',\n",
       "  '0.16157407407407406',\n",
       "  '0.028385416666666663',\n",
       "  '0.10555555555555557'],\n",
       " ['0',\n",
       "  '0.4361979166666667',\n",
       "  '0.2101851851851852',\n",
       "  '0.02213541666666663',\n",
       "  '0.1078703703703704']]"
      ]
     },
     "metadata": {},
     "execution_count": 38
    }
   ],
   "source": [
    "data_tmp"
   ]
  },
  {
   "cell_type": "code",
   "execution_count": null,
   "metadata": {},
   "outputs": [],
   "source": []
  },
  {
   "cell_type": "code",
   "execution_count": 27,
   "metadata": {},
   "outputs": [],
   "source": [
    "data_tmp = [[0,'1','1','1','1'],[0,'-1','1','1','1']]"
   ]
  },
  {
   "cell_type": "code",
   "execution_count": 28,
   "metadata": {},
   "outputs": [],
   "source": [
    "for e in data_tmp:\n",
    "    e[1:] = list(map(int, e[1:]))"
   ]
  },
  {
   "cell_type": "code",
   "execution_count": 29,
   "metadata": {},
   "outputs": [
    {
     "output_type": "execute_result",
     "data": {
      "text/plain": [
       "[[0, 1, 1, 1, 1], [0, -1, 1, 1, 1]]"
      ]
     },
     "metadata": {},
     "execution_count": 29
    }
   ],
   "source": [
    "data_tmp"
   ]
  },
  {
   "cell_type": "code",
   "execution_count": null,
   "metadata": {},
   "outputs": [],
   "source": []
  },
  {
   "cell_type": "code",
   "execution_count": null,
   "metadata": {},
   "outputs": [],
   "source": []
  },
  {
   "cell_type": "code",
   "execution_count": null,
   "metadata": {},
   "outputs": [],
   "source": []
  }
 ]
}