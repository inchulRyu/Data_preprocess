{
 "metadata": {
  "language_info": {
   "codemirror_mode": {
    "name": "ipython",
    "version": 3
   },
   "file_extension": ".py",
   "mimetype": "text/x-python",
   "name": "python",
   "nbconvert_exporter": "python",
   "pygments_lexer": "ipython3",
   "version": "3.6.9-final"
  },
  "orig_nbformat": 2,
  "kernelspec": {
   "name": "python3",
   "display_name": "Python 3",
   "language": "python"
  }
 },
 "nbformat": 4,
 "nbformat_minor": 2,
 "cells": [
  {
   "cell_type": "code",
   "execution_count": 14,
   "metadata": {},
   "outputs": [],
   "source": [
    "import os\n",
    "import shutil\n",
    "import cv2\n",
    "from tqdm import tqdm"
   ]
  },
  {
   "cell_type": "code",
   "execution_count": 32,
   "metadata": {},
   "outputs": [],
   "source": [
    "def bboxCVT2YOLO(size, box):\n",
    "    dw = 1. / size[0]\n",
    "    dh = 1. / size[1]\n",
    "\n",
    "    # (xmin + xmax / 2)\n",
    "    x = (box[0] + box[2]) / 2.0\n",
    "    # (ymin + ymax / 2)\n",
    "    y = (box[1] + box[3]) / 2.0\n",
    "\n",
    "    # (xmax - xmin) = w\n",
    "    w = box[2] - box[0]\n",
    "    # (ymax - ymin) = h\n",
    "    h = box[3] - box[1]\n",
    "\n",
    "    x = x * dw\n",
    "    w = w * dw\n",
    "    y = y * dh\n",
    "    h = h * dh\n",
    "    return (round(x, 3), round(y, 3), round(w, 3), round(h, 3))"
   ]
  },
  {
   "cell_type": "code",
   "execution_count": 20,
   "metadata": {},
   "outputs": [],
   "source": [
    "image_path = '/local_hdd/works/ICRyu_workspace/for_yolo/dataset/data2/image_2'\n",
    "label_path = '/local_hdd/works/ICRyu_workspace/for_yolo/dataset/data2/label_2'\n",
    "\n",
    "save_path = '/local_hdd/works/ICRyu_workspace/for_yolo/dataset/data2/label_2_cvt'"
   ]
  },
  {
   "cell_type": "code",
   "execution_count": 3,
   "metadata": {},
   "outputs": [],
   "source": [
    "label_list = os.listdir(label_path)"
   ]
  },
  {
   "cell_type": "code",
   "execution_count": 4,
   "metadata": {},
   "outputs": [
    {
     "output_type": "execute_result",
     "data": {
      "text/plain": [
       "7481"
      ]
     },
     "metadata": {},
     "execution_count": 4
    }
   ],
   "source": [
    "len(label_list)"
   ]
  },
  {
   "cell_type": "code",
   "execution_count": 10,
   "metadata": {},
   "outputs": [],
   "source": [
    "image_extensions = 'png'"
   ]
  },
  {
   "cell_type": "code",
   "execution_count": null,
   "metadata": {},
   "outputs": [],
   "source": []
  },
  {
   "cell_type": "code",
   "execution_count": null,
   "metadata": {},
   "outputs": [],
   "source": []
  },
  {
   "source": [
    "## class name 불러오기"
   ],
   "cell_type": "markdown",
   "metadata": {}
  },
  {
   "cell_type": "code",
   "execution_count": 15,
   "metadata": {},
   "outputs": [
    {
     "output_type": "stream",
     "name": "stderr",
     "text": [
      "100%|██████████| 7481/7481 [00:00<00:00, 48385.62it/s]\n"
     ]
    }
   ],
   "source": [
    "classes_list = []\n",
    "for e in tqdm(label_list):\n",
    "    with open(os.path.join(label_path, e), 'r') as f:\n",
    "        labels_tmp = f.readlines()\n",
    "        labels_tmp = list(map(lambda x: x.split(), labels_tmp))\n",
    "        for l in labels_tmp:\n",
    "            class_name = l[0]\n",
    "            # if class_name == 'DontCare':\n",
    "            #     continue\n",
    "            if class_name not in classes_list:\n",
    "                classes_list.append(class_name)"
   ]
  },
  {
   "cell_type": "code",
   "execution_count": 16,
   "metadata": {},
   "outputs": [
    {
     "output_type": "execute_result",
     "data": {
      "text/plain": [
       "['Car',\n",
       " 'Van',\n",
       " 'Pedestrian',\n",
       " 'Truck',\n",
       " 'DontCare',\n",
       " 'Misc',\n",
       " 'Cyclist',\n",
       " 'Person_sitting',\n",
       " 'Tram']"
      ]
     },
     "metadata": {},
     "execution_count": 16
    }
   ],
   "source": [
    "classes_list"
   ]
  },
  {
   "cell_type": "code",
   "execution_count": null,
   "metadata": {},
   "outputs": [],
   "source": []
  },
  {
   "cell_type": "code",
   "execution_count": 40,
   "metadata": {},
   "outputs": [],
   "source": [
    "yolo_class_dict = {\n",
    "                'Car':'vehicle',\n",
    "                'Van':'vehicle',\n",
    "                'Pedestrian':'person',\n",
    "                'Truck':'vehicle',\n",
    "                'Misc':'twowheeler',\n",
    "                'Cyclist':'twowheeler',\n",
    "                'Person_sitting':'person'\n",
    "}"
   ]
  },
  {
   "cell_type": "code",
   "execution_count": 41,
   "metadata": {},
   "outputs": [],
   "source": [
    "yolo_class = ['person', 'vehicle', 'twowheeler']"
   ]
  },
  {
   "cell_type": "code",
   "execution_count": 42,
   "metadata": {},
   "outputs": [],
   "source": [
    "each_file = label_list[0]"
   ]
  },
  {
   "cell_type": "code",
   "execution_count": null,
   "metadata": {},
   "outputs": [],
   "source": [
    "# save_path 디렉토리 삭제\n",
    "shutil.rmtree(save_path)\n",
    "# save 디렉토리 없으면 생성하기\n",
    "os.makedirs(save_path, exist_ok=True)"
   ]
  },
  {
   "cell_type": "code",
   "execution_count": null,
   "metadata": {},
   "outputs": [],
   "source": []
  },
  {
   "cell_type": "code",
   "execution_count": 44,
   "metadata": {},
   "outputs": [
    {
     "output_type": "stream",
     "name": "stderr",
     "text": [
      "100%|██████████| 7481/7481 [01:03<00:00, 117.07it/s]\n"
     ]
    }
   ],
   "source": [
    "for each_file in tqdm(label_list):\n",
    "    with open(os.path.join(label_path, each_file), 'r')  as f:\n",
    "        img = cv2.imread(os.path.join(image_path, os.path.splitext(each_file)[0]+f'.{image_extensions}'), 1)\n",
    "        img_h, img_w, img_c = img.shape\n",
    "\n",
    "        # content = f.readlines()\n",
    "        labels_tmp = f.readlines()\n",
    "        labels_tmp = list(map(lambda x: x.split(), labels_tmp))\n",
    "        labels = []\n",
    "\n",
    "        for each_label in labels_tmp:\n",
    "            class_name = each_label[0]\n",
    "            truncated = float(each_label[1]) # 화면 밖으로 잘린 정도. 0 ~ 1\n",
    "            occluded = int(each_label[2])    # 다른 물체에 의해 가려진 정도. 0=fully visible, 1=partly occluded, 2=largely occluded, 3=unknown\n",
    "            if class_name == 'DontCare':\n",
    "                continue\n",
    "            if truncated >= 0.9:\n",
    "                continue\n",
    "            if occluded >= 3:\n",
    "                continue\n",
    "\n",
    "            x_min, y_min, x_max, y_max = list(map(lambda x: int(float(x)),each_label[4:8]))\n",
    "            x_c, y_c, w, h = bboxCVT2YOLO([img_w, img_h], [x_min, y_min, x_max, y_max])\n",
    "            if class_name not in yolo_class_dict:\n",
    "                continue\n",
    "            class_index = yolo_class.index(yolo_class_dict[class_name])\n",
    "            labels.append(' '.join(list(map(str, [class_index, x_c, y_c, w, h]))))\n",
    "            # labels.append(' '.join(list(map(str, [class_name, x_c, y_c, w, h]))))\n",
    "\n",
    "        with open(os.path.join(save_path, each_file), 'w') as f:\n",
    "            f.write('\\n'.join(labels))\n",
    "\n",
    "\n"
   ]
  },
  {
   "cell_type": "code",
   "execution_count": 28,
   "metadata": {},
   "outputs": [
    {
     "output_type": "execute_result",
     "data": {
      "text/plain": [
       "[['Car',\n",
       "  '0.00',\n",
       "  '0',\n",
       "  '-1.61',\n",
       "  '589.09',\n",
       "  '173.69',\n",
       "  '649.29',\n",
       "  '222.70',\n",
       "  '1.36',\n",
       "  '1.69',\n",
       "  '3.38',\n",
       "  '0.17',\n",
       "  '1.42',\n",
       "  '22.06',\n",
       "  '-1.60'],\n",
       " ['Car',\n",
       "  '0.78',\n",
       "  '3',\n",
       "  '-1.78',\n",
       "  '0.00',\n",
       "  '185.32',\n",
       "  '125.39',\n",
       "  '374.00',\n",
       "  '1.45',\n",
       "  '1.61',\n",
       "  '3.96',\n",
       "  '-5.72',\n",
       "  '1.57',\n",
       "  '5.81',\n",
       "  '-2.53'],\n",
       " ['Car',\n",
       "  '0.00',\n",
       "  '1',\n",
       "  '-1.93',\n",
       "  '42.54',\n",
       "  '190.42',\n",
       "  '309.53',\n",
       "  '334.07',\n",
       "  '1.36',\n",
       "  '1.57',\n",
       "  '3.73',\n",
       "  '-5.43',\n",
       "  '1.59',\n",
       "  '8.76',\n",
       "  '-2.47'],\n",
       " ['Car',\n",
       "  '0.00',\n",
       "  '0',\n",
       "  '1.10',\n",
       "  '277.41',\n",
       "  '173.84',\n",
       "  '415.74',\n",
       "  '245.98',\n",
       "  '1.48',\n",
       "  '1.57',\n",
       "  '3.48',\n",
       "  '-6.16',\n",
       "  '1.53',\n",
       "  '16.58',\n",
       "  '0.75'],\n",
       " ['Car',\n",
       "  '0.00',\n",
       "  '0',\n",
       "  '-1.38',\n",
       "  '423.22',\n",
       "  '186.10',\n",
       "  '547.54',\n",
       "  '261.21',\n",
       "  '1.25',\n",
       "  '1.74',\n",
       "  '3.66',\n",
       "  '-2.36',\n",
       "  '1.54',\n",
       "  '14.27',\n",
       "  '-1.55'],\n",
       " ['Car',\n",
       "  '0.00',\n",
       "  '2',\n",
       "  '-1.48',\n",
       "  '482.21',\n",
       "  '178.10',\n",
       "  '553.59',\n",
       "  '237.84',\n",
       "  '1.46',\n",
       "  '1.59',\n",
       "  '3.65',\n",
       "  '-2.46',\n",
       "  '1.61',\n",
       "  '19.64',\n",
       "  '-1.61'],\n",
       " ['Car',\n",
       "  '0.00',\n",
       "  '2',\n",
       "  '0.92',\n",
       "  '406.03',\n",
       "  '178.47',\n",
       "  '495.72',\n",
       "  '218.40',\n",
       "  '1.37',\n",
       "  '1.52',\n",
       "  '3.30',\n",
       "  '-5.92',\n",
       "  '1.60',\n",
       "  '26.52',\n",
       "  '0.71'],\n",
       " ['Van',\n",
       "  '1.00',\n",
       "  '3',\n",
       "  '-2.45',\n",
       "  '891.52',\n",
       "  '0.00',\n",
       "  '1241.00',\n",
       "  '374.00',\n",
       "  '2.42',\n",
       "  '2.03',\n",
       "  '5.49',\n",
       "  '3.02',\n",
       "  '1.50',\n",
       "  '2.32',\n",
       "  '-1.60'],\n",
       " ['Pedestrian',\n",
       "  '0.00',\n",
       "  '1',\n",
       "  '-1.95',\n",
       "  '880.12',\n",
       "  '177.46',\n",
       "  '951.12',\n",
       "  '339.13',\n",
       "  '1.54',\n",
       "  '0.77',\n",
       "  '0.63',\n",
       "  '2.95',\n",
       "  '1.59',\n",
       "  '7.20',\n",
       "  '-1.57'],\n",
       " ['Car',\n",
       "  '0.00',\n",
       "  '1',\n",
       "  '-1.83',\n",
       "  '736.14',\n",
       "  '178.40',\n",
       "  '950.04',\n",
       "  '311.52',\n",
       "  '1.46',\n",
       "  '1.72',\n",
       "  '3.95',\n",
       "  '2.88',\n",
       "  '1.55',\n",
       "  '9.97',\n",
       "  '-1.55'],\n",
       " ['Car',\n",
       "  '0.00',\n",
       "  '2',\n",
       "  '-1.76',\n",
       "  '696.96',\n",
       "  '181.57',\n",
       "  '821.53',\n",
       "  '257.73',\n",
       "  '1.32',\n",
       "  '1.70',\n",
       "  '4.04',\n",
       "  '2.84',\n",
       "  '1.51',\n",
       "  '14.77',\n",
       "  '-1.57'],\n",
       " ['Car',\n",
       "  '0.00',\n",
       "  '2',\n",
       "  '-1.76',\n",
       "  '680.79',\n",
       "  '168.11',\n",
       "  '755.60',\n",
       "  '227.63',\n",
       "  '1.56',\n",
       "  '1.48',\n",
       "  '3.36',\n",
       "  '2.99',\n",
       "  '1.46',\n",
       "  '20.77',\n",
       "  '-1.62'],\n",
       " ['Car',\n",
       "  '0.00',\n",
       "  '1',\n",
       "  '-1.67',\n",
       "  '642.92',\n",
       "  '172.48',\n",
       "  '678.59',\n",
       "  '199.68',\n",
       "  '1.38',\n",
       "  '1.55',\n",
       "  '3.60',\n",
       "  '2.66',\n",
       "  '1.39',\n",
       "  '38.81',\n",
       "  '-1.60'],\n",
       " ['Truck',\n",
       "  '0.00',\n",
       "  '3',\n",
       "  '-1.64',\n",
       "  '634.03',\n",
       "  '137.67',\n",
       "  '680.15',\n",
       "  '192.32',\n",
       "  '3.41',\n",
       "  '2.57',\n",
       "  '7.87',\n",
       "  '3.08',\n",
       "  '1.25',\n",
       "  '49.28',\n",
       "  '-1.57'],\n",
       " ['Van',\n",
       "  '0.73',\n",
       "  '3',\n",
       "  '2.28',\n",
       "  '0.00',\n",
       "  '135.00',\n",
       "  '145.67',\n",
       "  '292.94',\n",
       "  '2.10',\n",
       "  '1.96',\n",
       "  '4.63',\n",
       "  '-9.13',\n",
       "  '1.61',\n",
       "  '10.27',\n",
       "  '1.57'],\n",
       " ['Car',\n",
       "  '0.00',\n",
       "  '2',\n",
       "  '-1.56',\n",
       "  '591.88',\n",
       "  '171.81',\n",
       "  '629.99',\n",
       "  '206.58',\n",
       "  '1.52',\n",
       "  '1.67',\n",
       "  '3.61',\n",
       "  '0.03',\n",
       "  '1.50',\n",
       "  '33.62',\n",
       "  '-1.56'],\n",
       " ['Car',\n",
       "  '0.00',\n",
       "  '2',\n",
       "  '2.08',\n",
       "  '191.08',\n",
       "  '174.86',\n",
       "  '278.16',\n",
       "  '211.39',\n",
       "  '1.36',\n",
       "  '1.54',\n",
       "  '3.57',\n",
       "  '-15.00',\n",
       "  '1.46',\n",
       "  '28.95',\n",
       "  '1.61'],\n",
       " ['DontCare',\n",
       "  '-1',\n",
       "  '-1',\n",
       "  '-10',\n",
       "  '562.06',\n",
       "  '172.35',\n",
       "  '581.40',\n",
       "  '195.04',\n",
       "  '-1',\n",
       "  '-1',\n",
       "  '-1',\n",
       "  '-1000',\n",
       "  '-1000',\n",
       "  '-1000',\n",
       "  '-10']]"
      ]
     },
     "metadata": {},
     "execution_count": 28
    }
   ],
   "source": [
    "labels_tmp"
   ]
  },
  {
   "cell_type": "code",
   "execution_count": null,
   "metadata": {},
   "outputs": [],
   "source": []
  },
  {
   "cell_type": "code",
   "execution_count": null,
   "metadata": {},
   "outputs": [],
   "source": []
  },
  {
   "cell_type": "code",
   "execution_count": null,
   "metadata": {},
   "outputs": [],
   "source": []
  },
  {
   "cell_type": "code",
   "execution_count": null,
   "metadata": {},
   "outputs": [],
   "source": []
  },
  {
   "cell_type": "code",
   "execution_count": null,
   "metadata": {},
   "outputs": [],
   "source": []
  },
  {
   "cell_type": "code",
   "execution_count": null,
   "metadata": {},
   "outputs": [],
   "source": []
  },
  {
   "cell_type": "code",
   "execution_count": null,
   "metadata": {},
   "outputs": [],
   "source": []
  },
  {
   "cell_type": "code",
   "execution_count": null,
   "metadata": {},
   "outputs": [],
   "source": []
  },
  {
   "cell_type": "code",
   "execution_count": null,
   "metadata": {},
   "outputs": [],
   "source": []
  }
 ]
}