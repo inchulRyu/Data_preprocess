{
 "metadata": {
  "orig_nbformat": 2,
  "kernelspec": {
   "name": "python3",
   "display_name": "Python 3",
   "language": "python"
  },
  "metadata": {
   "interpreter": {
    "hash": "31f2aee4e71d21fbe5cf8b01ff0e069b9275f58929596ceb00d14d90e3e16cd6"
   }
  }
 },
 "nbformat": 4,
 "nbformat_minor": 2,
 "cells": [
  {
   "cell_type": "code",
   "execution_count": 26,
   "metadata": {},
   "outputs": [],
   "source": [
    "import os\n",
    "from tqdm import tqdm"
   ]
  },
  {
   "cell_type": "code",
   "execution_count": 27,
   "metadata": {},
   "outputs": [],
   "source": [
    "# img_path = '/DL_data/Spocado/data/images/val1'\n",
    "# img_path = '/DL_data/object_detection_dataset/yolo/aichallenge/test'\n",
    "# train_txt_out_path = '/local_hdd/works/ICRyu_workspace/for_yolo/train/spocado'\n",
    "# train_txt_out_path = '/home/icryu/works/project/spocado/spocado_SW/darknet/train/spocado'\n",
    "# img_path = '/DL_data/Spocado/data/yolo_train_dataset_v06'\n",
    "# train_txt_out_path = '/local_hdd/works/ICRyu_workspace/for_yolo/train/spocado'\n",
    "\n",
    "img_path = '/DL_data/Spocado/data/yolo_train_dataset_ryu_v01'\n",
    "train_txt_out_path = '/local_hdd/works/ICRyu_workspace/for_yolo/train/spocado'"
   ]
  },
  {
   "cell_type": "code",
   "execution_count": 28,
   "metadata": {},
   "outputs": [],
   "source": [
    "train_txt_file_name = 'yolov4_spocado_ryu_v01_train_og.txt'"
   ]
  },
  {
   "cell_type": "code",
   "execution_count": 29,
   "metadata": {},
   "outputs": [],
   "source": [
    "file_list = os.listdir(img_path)"
   ]
  },
  {
   "cell_type": "code",
   "execution_count": 30,
   "metadata": {},
   "outputs": [
    {
     "output_type": "execute_result",
     "data": {
      "text/plain": [
       "7908"
      ]
     },
     "metadata": {},
     "execution_count": 30
    }
   ],
   "source": [
    "len(file_list)"
   ]
  },
  {
   "cell_type": "code",
   "execution_count": 31,
   "metadata": {},
   "outputs": [
    {
     "output_type": "execute_result",
     "data": {
      "text/plain": [
       "'200826 상무 VS 삼성_마스터_1000.txt'"
      ]
     },
     "metadata": {},
     "execution_count": 31
    }
   ],
   "source": [
    "file_list[0]"
   ]
  },
  {
   "cell_type": "code",
   "execution_count": 32,
   "metadata": {},
   "outputs": [
    {
     "output_type": "execute_result",
     "data": {
      "text/plain": [
       "False"
      ]
     },
     "metadata": {},
     "execution_count": 32
    }
   ],
   "source": [
    "os.path.splitext(file_list[0])[-1] in ['.jpg', '.png']"
   ]
  },
  {
   "source": [
    "## 새로 만듦"
   ],
   "cell_type": "markdown",
   "metadata": {}
  },
  {
   "cell_type": "code",
   "execution_count": 33,
   "metadata": {},
   "outputs": [
    {
     "output_type": "stream",
     "name": "stderr",
     "text": [
      "100%|██████████| 7908/7908 [00:00<00:00, 296168.98it/s]\n",
      "3954\n",
      "\n"
     ]
    }
   ],
   "source": [
    "write_cnt = 0\n",
    "with open(os.path.join(train_txt_out_path, train_txt_file_name), 'w') as f:\n",
    "    for each_file in tqdm(file_list):\n",
    "        if os.path.splitext(each_file)[-1] in ['.jpg', '.png']:\n",
    "            write_cnt += 1\n",
    "            f.write(os.path.join(img_path, each_file)+'\\n')\n",
    "print()\n",
    "print(write_cnt)"
   ]
  },
  {
   "cell_type": "code",
   "execution_count": null,
   "metadata": {},
   "outputs": [],
   "source": []
  },
  {
   "source": [
    "## 기존 파일에 추가"
   ],
   "cell_type": "markdown",
   "metadata": {}
  },
  {
   "cell_type": "code",
   "execution_count": 11,
   "metadata": {},
   "outputs": [
    {
     "output_type": "execute_result",
     "data": {
      "text/plain": [
       "1527"
      ]
     },
     "metadata": {},
     "execution_count": 11
    }
   ],
   "source": [
    "img_path = '/DL_data/Spocado/data/images/2008026_상무_vs_삼성_마스터'\n",
    "file_list = os.listdir(img_path)\n",
    "len(file_list)"
   ]
  },
  {
   "cell_type": "code",
   "execution_count": 12,
   "metadata": {},
   "outputs": [
    {
     "output_type": "stream",
     "name": "stdout",
     "text": [
      "\n1527\n"
     ]
    }
   ],
   "source": [
    "write_cnt = 0\n",
    "with open(os.path.join(train_txt_out_path, train_txt_file_name), 'a+') as f:\n",
    "    for each_file in file_list:\n",
    "        if os.path.splitext(each_file)[-1] in ['.jpg', '.png']:\n",
    "            write_cnt += 1\n",
    "            f.write(os.path.join(img_path, each_file)+'\\n')\n",
    "\n",
    "print()\n",
    "print(write_cnt)"
   ]
  },
  {
   "cell_type": "code",
   "execution_count": null,
   "metadata": {},
   "outputs": [],
   "source": []
  },
  {
   "source": [
    "### train.txt 내부 이미지 파일 개수 보기"
   ],
   "cell_type": "markdown",
   "metadata": {}
  },
  {
   "cell_type": "code",
   "execution_count": 25,
   "metadata": {},
   "outputs": [
    {
     "output_type": "execute_result",
     "data": {
      "text/plain": [
       "3954"
      ]
     },
     "metadata": {},
     "execution_count": 25
    }
   ],
   "source": [
    "with open(os.path.join(train_txt_out_path, train_txt_file_name), 'r') as f:\n",
    "    file_content = f.readlines()\n",
    "\n",
    "len(file_content)"
   ]
  },
  {
   "cell_type": "code",
   "execution_count": null,
   "metadata": {},
   "outputs": [],
   "source": []
  },
  {
   "cell_type": "code",
   "execution_count": null,
   "metadata": {},
   "outputs": [],
   "source": []
  },
  {
   "cell_type": "code",
   "execution_count": null,
   "metadata": {},
   "outputs": [],
   "source": []
  },
  {
   "cell_type": "code",
   "execution_count": null,
   "metadata": {},
   "outputs": [],
   "source": []
  }
 ]
}